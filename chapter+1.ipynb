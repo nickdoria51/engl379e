{
 "cells": [
  {
   "cell_type": "code",
   "execution_count": 1,
   "metadata": {
    "collapsed": false
   },
   "outputs": [
    {
     "ename": "SyntaxError",
     "evalue": "invalid syntax (<ipython-input-1-ab76eb305d12>, line 1)",
     "output_type": "error",
     "traceback": [
      "\u001b[0;36m  File \u001b[0;32m\"<ipython-input-1-ab76eb305d12>\"\u001b[0;36m, line \u001b[0;32m1\u001b[0m\n\u001b[0;31m    <!DOCTYPE HTML PUBLIC \"-//W3C//DTD HTML 4.01//EN\"\u001b[0m\n\u001b[0m    ^\u001b[0m\n\u001b[0;31mSyntaxError\u001b[0m\u001b[0;31m:\u001b[0m invalid syntax\n"
     ]
    }
   ],
   "source": [
    "<!DOCTYPE HTML PUBLIC \"-//W3C//DTD HTML 4.01//EN\"\n",
    "   \"http://www.w3.org/TR/html4/strict.dtd\">\n",
    "<html>\n",
    "<head>\n",
    "<meta http-equiv=\"content-type\" content=\"text/html; charset=utf-8\">\n",
    "<!--\n",
    "Modern Perverbs, copyright (c) 2014 Nick Montfort <nickm@nickm.com>\n",
    "\n",
    "Permission to use, copy, modify, and/or distribute this software for any\n",
    "purpose with or without fee is hereby granted, provided that the above\n",
    "copyright notice and this permission notice appear in all copies.\n",
    "\n",
    "THE SOFTWARE IS PROVIDED \"AS IS\" AND THE AUTHOR DISCLAIMS ALL WARRANTIES\n",
    "WITH REGARD TO THIS SOFTWARE INCLUDING ALL IMPLIED WARRANTIES OF\n",
    "MERCHANTABILITY AND FITNESS. IN NO EVENT SHALL THE AUTHOR BE LIABLE FOR ANY\n",
    "SPECIAL, DIRECT, INDIRECT, OR CONSEQUENTIAL DAMAGES OR ANY DAMAGES\n",
    "WHATSOEVER RESULTING FROM LOSS OF USE, DATA OR PROFITS, WHETHER IN AN\n",
    "ACTION OF CONTRACT, NEGLIGENCE OR OTHER TORTIOUS ACTION, ARISING OUT OF OR\n",
    "IN CONNECTION WITH THE USE OR PERFORMANCE OF THIS SOFTWARE.\n",
    "-->\n",
    "<style type=\"text/css\">\n",
    "/* <![CDATA[ */\n",
    "body {\n",
    " background: #fff;\n",
    " color: #000;\n",
    " margin: 0 0 0 18pt;\n",
    " font-family: Optima, sans-serif;\n",
    " font-size: 13pt;\n",
    "}\n",
    "a {\n",
    " color: #117;\n",
    " text-decoration: none;\n",
    "}\n",
    "/* ]]> */\n",
    "</style>\n",
    "<script type=\"text/javascript\">\n",
    "var t = 0;\n",
    "// All but the last character ends up as the beginning of the output.\n",
    "// The last character is tacked onto the very end.\n",
    "var left = [\"It’s five o’clock.\", \"There’s a party —.\", \"All roads lead.\", \"Welcome!\", \"Keep your data.\", \"The road goes.\", \"The sun never sets.\", \"There’s no place like…\", \"Can one simply walk?\", \"No man is.\", \"Right or wrong,.\", \"Tell it.\", \"The Internet is.\"];\n",
    "// This ends up as the end of the output, except for the very last character.\n",
    "var right = [\"somewhere\", \"in my pants\", \"to Rome\", \"to the jungle\", \"in the Cloud\", \"ever ever on\", \"on the British Empire\", \"home\", \"into Mordor\", \"an island\", \"my country\", \"to the hand\", \"a series of tubes\"];\n",
    "function rand_range(max) {\n",
    "    \"use strict\";\n",
    "    return Math.floor(Math.random() * (max + 1));\n",
    "}\n",
    "function litany() {\n",
    "    \"use strict\";\n",
    "    var last, text, l, r, main = document.getElementById('main');\n",
    "    if (t <= 24) {\n",
    "        t += 1;\n",
    "    } else {\n",
    "        main.removeChild(document.getElementById('main').firstChild);\n",
    "    }\n",
    "    last = document.createElement('div');\n",
    "    l = rand_range(left.length - 1);\n",
    "    r = rand_range(right.length - 2);\n",
    "    if (r >= l) {\n",
    "        r += 1;\n",
    "    }\n",
    "    text = left[l].slice(0, left[l].length - 1) + \" \" + right[r] + left[l].slice(-1);\n",
    "    last.appendChild(document.createTextNode(text));\n",
    "    main.appendChild(last);\n",
    "}\n",
    "function produce_litany() {\n",
    "    \"use strict\";\n",
    "    litany();\n",
    "    setInterval(litany, 2500);\n",
    "}</script>\n",
    "  <title>Modern Perverbs</title>\n",
    "</head>\n",
    "<body onload=\"produce_litany();\">\n",
    "<div style=\"float:right; background:#999; margin-left:6px; border-left:thin #000 solid; border-bottom:thin #000 solid; padding:9px\">\n",
    "<div>Modern Perverbs<br><a href=\"http://nickm.com\">Nick Montfort</a></div>\n",
    "</div>\n",
    "<div id=\"main\" style=\"padding-top:18px;\"></div>\n",
    "</body>\n",
    "</html>\n",
    "\n"
   ]
  },
  {
   "cell_type": "code",
   "execution_count": 2,
   "metadata": {
    "collapsed": true
   },
   "outputs": [],
   "source": [
    "subjects = ['COUNT', 'STRANGER', 'LOOK', 'CHURCH', 'CASTLE', 'PICTURE']"
   ]
  },
  {
   "cell_type": "code",
   "execution_count": 3,
   "metadata": {
    "collapsed": true
   },
   "outputs": [],
   "source": [
    "subjects = ['HAMBURGLAR', 'STRANGER', 'LOOK', 'CHURCH', 'CASTLE', 'PICTURE']"
   ]
  },
  {
   "cell_type": "code",
   "execution_count": null,
   "metadata": {
    "collapsed": true
   },
   "outputs": [],
   "source": []
  }
 ],
 "metadata": {
  "kernelspec": {
   "display_name": "Python 3",
   "language": "python",
   "name": "python3"
  },
  "language_info": {
   "codemirror_mode": {
    "name": "ipython",
    "version": 3
   },
   "file_extension": ".py",
   "mimetype": "text/x-python",
   "name": "python",
   "nbconvert_exporter": "python",
   "pygments_lexer": "ipython3",
   "version": "3.6.0"
  }
 },
 "nbformat": 4,
 "nbformat_minor": 2
}
